{
  "nbformat": 4,
  "nbformat_minor": 0,
  "metadata": {
    "colab": {
      "name": "Raizen.ipynb",
      "provenance": [],
      "collapsed_sections": []
    },
    "kernelspec": {
      "name": "python3",
      "display_name": "Python 3"
    },
    "language_info": {
      "name": "python"
    }
  },
  "cells": [
    {
      "cell_type": "code",
      "metadata": {
        "id": "sgAI6rH0p7x0"
      },
      "source": [
        "#Importando Classe Pandas\n",
        "import pandas as pd\n",
        "import datetime"
      ],
      "execution_count": 32,
      "outputs": []
    },
    {
      "cell_type": "code",
      "metadata": {
        "id": "BbSIDSlrqC06"
      },
      "source": [
        "#Leitura do arquivo XLS... obs Mudar o caminho do arquivo abaixo em caso de teste ...\n",
        "data = pd.read_excel(\"/content/drive/MyDrive/ExcelRaizen.xlsx\",  sheet_name='Sheet1')"
      ],
      "execution_count": 33,
      "outputs": []
    },
    {
      "cell_type": "code",
      "metadata": {
        "colab": {
          "base_uri": "https://localhost:8080/"
        },
        "id": "K2NyVi6qtl4i",
        "outputId": "8cff3c31-c1ef-4c87-c1f9-e3caea6d5d96"
      },
      "source": [
        "#Leitura Inicial dos dados\n",
        "print(data.head())\n",
        "data.dtypes"
      ],
      "execution_count": 34,
      "outputs": [
        {
          "output_type": "stream",
          "text": [
            "  UN. DA FEDERAÇÃO   ANO      Dados                     PRODUTO UNIDADE  Total\n",
            "0             ACRE  2013    Janeiro  ÓLEO DIESEL (OUTROS ) (m3)      m3    8.0\n",
            "1             ACRE  2013  Fevereiro  ÓLEO DIESEL (OUTROS ) (m3)      m3    8.0\n",
            "2             ACRE  2013      Março  ÓLEO DIESEL (OUTROS ) (m3)      m3   58.0\n",
            "3             ACRE  2013      Abril  ÓLEO DIESEL (OUTROS ) (m3)      m3   17.0\n",
            "4             ACRE  2013       Maio  ÓLEO DIESEL (OUTROS ) (m3)      m3    0.0\n"
          ],
          "name": "stdout"
        },
        {
          "output_type": "execute_result",
          "data": {
            "text/plain": [
              "UN. DA FEDERAÇÃO     object\n",
              "ANO                   int64\n",
              "Dados                object\n",
              "PRODUTO              object\n",
              "UNIDADE              object\n",
              "Total               float64\n",
              "dtype: object"
            ]
          },
          "metadata": {
            "tags": []
          },
          "execution_count": 34
        }
      ]
    },
    {
      "cell_type": "code",
      "metadata": {
        "colab": {
          "base_uri": "https://localhost:8080/"
        },
        "id": "3HqwQInCMZ1B",
        "outputId": "a3431510-5737-411f-904b-db6823606e53"
      },
      "source": [
        "#Renomeand as colunas com o padrao solicitado no GIT\n",
        "#Adicionando a coluna Created_AT \n",
        "#Verificando o novo layout dos dados\n",
        "data1 = data.rename(columns={'UN. DA FEDERAÇÃO': 'UF','ANO':'Year','Dados':'Month','PRODUTO':'Product','UNIDADE':'Unit','Total':'Volume'},inplace=False)\n",
        "data1['Created_at'] = pd.Timestamp.today()\n",
        "print(data1)\n",
        "\n"
      ],
      "execution_count": 48,
      "outputs": [
        {
          "output_type": "stream",
          "text": [
            "              UF  Year      Month  ... Unit    Volume                 Created_at\n",
            "0           ACRE  2013    Janeiro  ...   m3      8.00 2021-07-02 19:39:25.974052\n",
            "1           ACRE  2013  Fevereiro  ...   m3      8.00 2021-07-02 19:39:25.974052\n",
            "2           ACRE  2013      Março  ...   m3     58.00 2021-07-02 19:39:25.974052\n",
            "3           ACRE  2013      Abril  ...   m3     17.00 2021-07-02 19:39:25.974052\n",
            "4           ACRE  2013       Maio  ...   m3      0.00 2021-07-02 19:39:25.974052\n",
            "...          ...   ...        ...  ...  ...       ...                        ...\n",
            "12955  TOCANTINS  2020     Agosto  ...   m3  38864.19 2021-07-02 19:39:25.974052\n",
            "12956  TOCANTINS  2020   Setembro  ...   m3  39696.75 2021-07-02 19:39:25.974052\n",
            "12957  TOCANTINS  2020    Outubro  ...   m3       NaN 2021-07-02 19:39:25.974052\n",
            "12958  TOCANTINS  2020   Novembro  ...   m3       NaN 2021-07-02 19:39:25.974052\n",
            "12959  TOCANTINS  2020   Dezembro  ...   m3       NaN 2021-07-02 19:39:25.974052\n",
            "\n",
            "[12960 rows x 7 columns]\n"
          ],
          "name": "stdout"
        }
      ]
    },
    {
      "cell_type": "code",
      "metadata": {
        "colab": {
          "base_uri": "https://localhost:8080/"
        },
        "id": "RvXH31k1Szu3",
        "outputId": "809480bb-b390-4659-8161-5fde6613c60b"
      },
      "source": [
        "#Criacao de uma estrutura de apoio para converter os meses em numeros\n",
        "#Concatenacao dos campos Year + Month\n",
        "look_up = {'Janeiro': '1', 'Fevereiro': '2', 'Março': '3', 'Abril': '4', 'Maio': '5',\n",
        "            'Junho': '6', 'Julho': '7', 'Agosto': '8', 'Setembro': '9', 'Outubro': '10', 'Novembro': '11', 'Dezembro': '12'}\n",
        "data1['Month'] = data1['Month'].apply(lambda x: look_up[x])\n",
        "data1['Volumne'] = data1['Volume'].fillna(0)\n",
        "data1['Year_Month'] = pd.to_datetime(data1['Year'].map(str) + data1['Month'], format=\"%Y%m\")\n",
        "print(data1)\n",
        "data1.dtypes\n",
        "\n"
      ],
      "execution_count": 49,
      "outputs": [
        {
          "output_type": "stream",
          "text": [
            "              UF  Year Month  ...                 Created_at   Volumne  Year_Month\n",
            "0           ACRE  2013     1  ... 2021-07-02 19:39:25.974052      8.00  2013-01-01\n",
            "1           ACRE  2013     2  ... 2021-07-02 19:39:25.974052      8.00  2013-02-01\n",
            "2           ACRE  2013     3  ... 2021-07-02 19:39:25.974052     58.00  2013-03-01\n",
            "3           ACRE  2013     4  ... 2021-07-02 19:39:25.974052     17.00  2013-04-01\n",
            "4           ACRE  2013     5  ... 2021-07-02 19:39:25.974052      0.00  2013-05-01\n",
            "...          ...   ...   ...  ...                        ...       ...         ...\n",
            "12955  TOCANTINS  2020     8  ... 2021-07-02 19:39:25.974052  38864.19  2020-08-01\n",
            "12956  TOCANTINS  2020     9  ... 2021-07-02 19:39:25.974052  39696.75  2020-09-01\n",
            "12957  TOCANTINS  2020    10  ... 2021-07-02 19:39:25.974052      0.00  2020-10-01\n",
            "12958  TOCANTINS  2020    11  ... 2021-07-02 19:39:25.974052      0.00  2020-11-01\n",
            "12959  TOCANTINS  2020    12  ... 2021-07-02 19:39:25.974052      0.00  2020-12-01\n",
            "\n",
            "[12960 rows x 9 columns]\n"
          ],
          "name": "stdout"
        },
        {
          "output_type": "execute_result",
          "data": {
            "text/plain": [
              "UF                    object\n",
              "Year                   int64\n",
              "Month                 object\n",
              "Product               object\n",
              "Unit                  object\n",
              "Volume               float64\n",
              "Created_at    datetime64[ns]\n",
              "Volumne              float64\n",
              "Year_Month    datetime64[ns]\n",
              "dtype: object"
            ]
          },
          "metadata": {
            "tags": []
          },
          "execution_count": 49
        }
      ]
    },
    {
      "cell_type": "markdown",
      "metadata": {
        "id": "Wxt7Sw2SCnBW"
      },
      "source": [
        "# New section"
      ]
    },
    {
      "cell_type": "code",
      "metadata": {
        "colab": {
          "base_uri": "https://localhost:8080/"
        },
        "id": "EYSJ5CdN5u2o",
        "outputId": "427ab5d6-a38a-45c6-d240-02f3ee37a0b3"
      },
      "source": [
        "#Definindo um novo lauyout com um novo DataFrame\n",
        "data2 = pd.DataFrame(data1, columns = ['Year_Month','UF','Product','Unit','Volume','Created_at'])\n",
        "print(data2)\n",
        "data2.dtypes\n"
      ],
      "execution_count": 50,
      "outputs": [
        {
          "output_type": "stream",
          "text": [
            "      Year_Month         UF  ...    Volume                 Created_at\n",
            "0     2013-01-01       ACRE  ...      8.00 2021-07-02 19:39:25.974052\n",
            "1     2013-02-01       ACRE  ...      8.00 2021-07-02 19:39:25.974052\n",
            "2     2013-03-01       ACRE  ...     58.00 2021-07-02 19:39:25.974052\n",
            "3     2013-04-01       ACRE  ...     17.00 2021-07-02 19:39:25.974052\n",
            "4     2013-05-01       ACRE  ...      0.00 2021-07-02 19:39:25.974052\n",
            "...          ...        ...  ...       ...                        ...\n",
            "12955 2020-08-01  TOCANTINS  ...  38864.19 2021-07-02 19:39:25.974052\n",
            "12956 2020-09-01  TOCANTINS  ...  39696.75 2021-07-02 19:39:25.974052\n",
            "12957 2020-10-01  TOCANTINS  ...       NaN 2021-07-02 19:39:25.974052\n",
            "12958 2020-11-01  TOCANTINS  ...       NaN 2021-07-02 19:39:25.974052\n",
            "12959 2020-12-01  TOCANTINS  ...       NaN 2021-07-02 19:39:25.974052\n",
            "\n",
            "[12960 rows x 6 columns]\n"
          ],
          "name": "stdout"
        },
        {
          "output_type": "execute_result",
          "data": {
            "text/plain": [
              "Year_Month    datetime64[ns]\n",
              "UF                    object\n",
              "Product               object\n",
              "Unit                  object\n",
              "Volume               float64\n",
              "Created_at    datetime64[ns]\n",
              "dtype: object"
            ]
          },
          "metadata": {
            "tags": []
          },
          "execution_count": 50
        }
      ]
    },
    {
      "cell_type": "markdown",
      "metadata": {
        "id": "KQzE8pzU9Aiy"
      },
      "source": [
        "# New section"
      ]
    }
  ]
}